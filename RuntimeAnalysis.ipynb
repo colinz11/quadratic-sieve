{
 "cells": [
  {
   "cell_type": "code",
   "execution_count": 1,
   "id": "f6eae873",
   "metadata": {},
   "outputs": [],
   "source": [
    "from sieve import factor\n",
    "import matplotlib.pyplot as plt\n",
    "import numpy as np"
   ]
  },
  {
   "cell_type": "code",
   "execution_count": 2,
   "id": "5e99d4ea",
   "metadata": {},
   "outputs": [
    {
     "name": "stdout",
     "output_type": "stream",
     "text": [
      "Bound: 697\n",
      "Finding smooth numbers ...\n",
      "number of smooth numbers needed is 126\n",
      "smooth nums: 1\n",
      "smooth nums: 21\n",
      "smooth nums: 41\n",
      "smooth nums: 61\n",
      "smooth nums: 81\n",
      "smooth nums: 101\n",
      "smooth nums: 121\n",
      "Found smooth numbers in 35.3976982421875s\n",
      "Running Gaussian elimination ... \n",
      "elim time: 0.192s\n",
      "Trivial Factor\n",
      "Trivial Factor\n",
      "Trivial Factor\n",
      "N = 2860486313 * 5915587277\n",
      "total time: 35626ms, finding smooths time: 35397.6982421875ms, Gaussian elim time: 192ms\n",
      "Bound: 1242\n",
      "Finding smooth numbers ...\n",
      "number of smooth numbers needed is 168\n",
      "smooth nums: 1\n",
      "smooth nums: 21\n",
      "smooth nums: 41\n",
      "smooth nums: 61\n",
      "smooth nums: 81\n",
      "smooth nums: 101\n",
      "smooth nums: 121\n",
      "smooth nums: 141\n",
      "smooth nums: 161\n",
      "Found smooth numbers in 37.74633984375s\n",
      "Running Gaussian elimination ... \n",
      "elim time: 0.715s\n",
      "Trivial Factor\n",
      "Trivial Factor\n",
      "Trivial Factor\n",
      "Trivial Factor\n",
      "N = 101103163367 * 100123456789\n",
      "total time: 38483ms, finding smooths time: 37746.33984375ms, Gaussian elim time: 715ms\n",
      "Bound: 2710\n",
      "Finding smooth numbers ...\n",
      "number of smooth numbers needed is 266\n",
      "smooth nums: 1\n",
      "smooth nums: 21\n",
      "smooth nums: 41\n",
      "smooth nums: 61\n",
      "smooth nums: 81\n",
      "smooth nums: 101\n",
      "smooth nums: 121\n",
      "smooth nums: 141\n",
      "smooth nums: 161\n",
      "smooth nums: 181\n",
      "smooth nums: 201\n",
      "smooth nums: 221\n",
      "smooth nums: 241\n",
      "smooth nums: 261\n",
      "Found smooth numbers in 54.53907470703125s\n",
      "Running Gaussian elimination ... \n",
      "elim time: 2.533s\n",
      "Trivial Factor\n",
      "Trivial Factor\n",
      "Trivial Factor\n",
      "Trivial Factor\n",
      "Trivial Factor\n",
      "Trivial Factor\n",
      "Trivial Factor\n",
      "Trivial Factor\n",
      "Trivial Factor\n",
      "Trivial Factor\n",
      "Trivial Factor\n",
      "N = 1000123465987 * 100000000105583\n",
      "total time: 57223ms, finding smooths time: 54539.07470703125ms, Gaussian elim time: 2533ms\n",
      "Bound: 5678\n",
      "Finding smooth numbers ...\n",
      "number of smooth numbers needed is 471\n",
      "smooth nums: 1\n",
      "smooth nums: 21\n",
      "smooth nums: 41\n",
      "smooth nums: 61\n",
      "smooth nums: 81\n",
      "smooth nums: 101\n",
      "smooth nums: 121\n",
      "smooth nums: 141\n",
      "smooth nums: 161\n",
      "smooth nums: 181\n",
      "smooth nums: 201\n",
      "smooth nums: 221\n",
      "smooth nums: 241\n",
      "smooth nums: 261\n",
      "smooth nums: 281\n",
      "smooth nums: 301\n",
      "smooth nums: 321\n",
      "smooth nums: 341\n",
      "smooth nums: 361\n",
      "smooth nums: 381\n",
      "smooth nums: 401\n",
      "smooth nums: 421\n",
      "smooth nums: 441\n",
      "smooth nums: 461\n",
      "Found smooth numbers in 68.90484375s\n",
      "Running Gaussian elimination ... \n",
      "elim time: 6.247s\n",
      "Trivial Factor\n",
      "Trivial Factor\n",
      "Trivial Factor\n",
      "N = 1084051191974761 * 1000000000100011\n",
      "total time: 75254ms, finding smooths time: 68904.84375ms, Gaussian elim time: 6247ms\n",
      "Bound: 8033\n",
      "Finding smooth numbers ...\n",
      "number of smooth numbers needed is 605\n",
      "smooth nums: 1\n",
      "smooth nums: 21\n",
      "smooth nums: 41\n",
      "smooth nums: 61\n",
      "smooth nums: 81\n",
      "smooth nums: 101\n",
      "smooth nums: 121\n",
      "smooth nums: 141\n",
      "smooth nums: 161\n",
      "smooth nums: 181\n",
      "smooth nums: 201\n",
      "smooth nums: 221\n",
      "smooth nums: 241\n",
      "smooth nums: 261\n",
      "smooth nums: 281\n",
      "smooth nums: 301\n",
      "smooth nums: 321\n",
      "smooth nums: 341\n",
      "smooth nums: 361\n",
      "smooth nums: 381\n",
      "smooth nums: 401\n",
      "smooth nums: 421\n",
      "smooth nums: 441\n",
      "smooth nums: 461\n",
      "smooth nums: 481\n",
      "smooth nums: 501\n",
      "smooth nums: 521\n",
      "smooth nums: 541\n",
      "smooth nums: 561\n",
      "smooth nums: 581\n",
      "smooth nums: 601\n",
      "Found smooth numbers in 304.7550007324219s\n",
      "Running Gaussian elimination ... \n",
      "elim time: 15.776s\n",
      "Trivial Factor\n",
      "N = 10000000002065383 * 10112269203786181\n",
      "total time: 320663ms, finding smooths time: 304755.0007324219ms, Gaussian elim time: 15776ms\n"
     ]
    }
   ],
   "source": [
    "nums = [16921456439215439701, \n",
    "       100123456789 * 101103163367, 100000000105583 * 1000123465987, 1000000000100011 * 1084051191974761,\n",
    "       10000000002065383 * 10112269203786181, 6172835808641975203638304919691358469663]\n",
    "\n",
    "\n",
    "smooth_time = []\n",
    "elim_time = []\n",
    "total_time = []\n",
    "\n",
    "\n",
    "\n",
    "for num in nums:\n",
    "    s, e, t = factor(num, 0.005)\n",
    "    smooth_time.append(s)\n",
    "    elim_time.append(e)\n",
    "    total_time.append(t)\n"
   ]
  },
  {
   "cell_type": "code",
   "execution_count": 4,
   "id": "2655ef71",
   "metadata": {
    "collapsed": true
   },
   "outputs": [
    {
     "name": "stdout",
     "output_type": "stream",
     "text": [
      "Bound: 29006\n",
      "Finding smooth numbers ...\n",
      "number of smooth numbers needed is 1654\n",
      "smooth nums: 1\n",
      "smooth nums: 21\n",
      "smooth nums: 41\n",
      "smooth nums: 61\n",
      "smooth nums: 81\n",
      "smooth nums: 101\n",
      "smooth nums: 121\n",
      "smooth nums: 141\n",
      "smooth nums: 161\n",
      "smooth nums: 181\n",
      "smooth nums: 201\n",
      "smooth nums: 221\n",
      "smooth nums: 241\n",
      "smooth nums: 261\n",
      "smooth nums: 281\n",
      "smooth nums: 301\n",
      "smooth nums: 321\n",
      "smooth nums: 341\n",
      "smooth nums: 361\n",
      "smooth nums: 381\n",
      "smooth nums: 401\n",
      "smooth nums: 421\n",
      "smooth nums: 441\n",
      "smooth nums: 461\n",
      "smooth nums: 481\n",
      "smooth nums: 501\n",
      "smooth nums: 521\n",
      "smooth nums: 541\n",
      "smooth nums: 561\n",
      "smooth nums: 581\n",
      "smooth nums: 601\n",
      "smooth nums: 621\n",
      "smooth nums: 641\n",
      "smooth nums: 661\n",
      "smooth nums: 681\n",
      "smooth nums: 701\n",
      "smooth nums: 721\n",
      "smooth nums: 741\n",
      "smooth nums: 761\n",
      "smooth nums: 781\n",
      "smooth nums: 801\n",
      "smooth nums: 821\n",
      "smooth nums: 841\n",
      "smooth nums: 861\n",
      "smooth nums: 881\n",
      "smooth nums: 901\n",
      "smooth nums: 921\n",
      "smooth nums: 941\n",
      "smooth nums: 961\n",
      "smooth nums: 981\n",
      "smooth nums: 1001\n",
      "smooth nums: 1021\n",
      "smooth nums: 1041\n",
      "smooth nums: 1061\n",
      "smooth nums: 1081\n",
      "smooth nums: 1101\n",
      "smooth nums: 1121\n",
      "smooth nums: 1141\n",
      "smooth nums: 1161\n",
      "smooth nums: 1181\n",
      "smooth nums: 1201\n",
      "smooth nums: 1221\n",
      "smooth nums: 1241\n",
      "smooth nums: 1261\n",
      "smooth nums: 1281\n",
      "smooth nums: 1301\n",
      "smooth nums: 1321\n",
      "smooth nums: 1341\n",
      "smooth nums: 1361\n",
      "smooth nums: 1381\n",
      "smooth nums: 1401\n",
      "smooth nums: 1421\n",
      "smooth nums: 1441\n",
      "smooth nums: 1461\n",
      "smooth nums: 1481\n",
      "smooth nums: 1501\n",
      "smooth nums: 1521\n",
      "smooth nums: 1541\n",
      "smooth nums: 1561\n",
      "smooth nums: 1581\n",
      "smooth nums: 1601\n",
      "smooth nums: 1621\n",
      "smooth nums: 1641\n",
      "Found smooth numbers in 1479.0713095703125s\n",
      "Running Gaussian elimination ... \n",
      "elim time: 265.786s\n",
      "Trivial Factor\n",
      "Trivial Factor\n",
      "Trivial Factor\n",
      "Trivial Factor\n",
      "N = 11111111111111111011 * 555555222777777773333\n",
      "total time: 1746554ms, finding smooths time: 1479071.3095703125ms, Gaussian elim time: 265786ms\n"
     ]
    }
   ],
   "source": [
    "extra_nums = [6172835808641975203638304919691358469663]\n",
    "for num in extra_nums:\n",
    "    s, e, t = factor(num, 0.005)\n",
    "    smooth_time.append(s)\n",
    "    elim_time.append(e)\n",
    "    total_time.append(t)\n",
    "    nums.append(num)"
   ]
  },
  {
   "cell_type": "code",
   "execution_count": 6,
   "id": "d72d8028",
   "metadata": {},
   "outputs": [],
   "source": [
    "n = 3744843080529615909019181510330554205500926021947\n",
    "s, e, t = [15720380, 5209884, 20941685]\n",
    "smooth_time.append(s)\n",
    "elim_time.append(e)\n",
    "total_time.append(t)"
   ]
  },
  {
   "cell_type": "code",
   "execution_count": 8,
   "id": "9b7c807c",
   "metadata": {},
   "outputs": [],
   "source": [
    "nums.append(n)"
   ]
  },
  {
   "cell_type": "code",
   "execution_count": 9,
   "id": "87794879",
   "metadata": {},
   "outputs": [
    {
     "data": {
      "text/plain": [
       "Text(0.5, 1.0, 'Time Spent on Gaussian Elimination\\n and on Finding Smooth Numbers')"
      ]
     },
     "execution_count": 9,
     "metadata": {},
     "output_type": "execute_result"
    },
    {
     "data": {
      "image/png": "[encoded data removed]",
      "text/plain": [
       "<Figure size 800x400 with 2 Axes>"
      ]
     },
     "metadata": {},
     "output_type": "display_data"
    }
   ],
   "source": [
    "\n",
    "fig, axs_all = plt.subplots(1, 2)\n",
    "fig.set_size_inches(8, 4)\n",
    "fig.tight_layout(pad=3)\n",
    "axs = axs_all[0]\n",
    "total_time_s = [total_time[i] / 1000 for i in range(len(total_time))]\n",
    "elim_time_s = [elim_time[i] / 1000 for i in range(len(elim_time))]\n",
    "smooth_time_s = [smooth_time[i] / 1000 for i in range(len(smooth_time))]\n",
    "log_nums = np.log10([float(nums[i]) for i in range(len(nums))])\n",
    "up_to = len(nums)\n",
    "axs.scatter(log_nums[:up_to], total_time_s[:up_to])\n",
    "axs.plot(log_nums[:up_to], total_time_s[:up_to])\n",
    "\n",
    "axs.scatter\n",
    "axs.set_xlabel(\"Log_10(n)\")\n",
    "axs.set_ylabel(\"Time (s) to Factor n\")\n",
    "axs.set_title(\"Time (s) to Factor n\")\n",
    "\n",
    "axs = axs_all[1]\n",
    "start = 0\n",
    "ratio_e = [elim_time_s[i] / total_time_s[i] for i in range(start, len(smooth_time_s))]\n",
    "ratio_s = [smooth_time_s[i] / total_time_s[i] for i in range(start, len(smooth_time_s))]\n",
    "axs.scatter(log_nums[start:], ratio_s)\n",
    "axs.scatter(log_nums[start:], ratio_e)\n",
    "axs.plot(log_nums[start:], ratio_s)\n",
    "axs.plot(log_nums[start:], ratio_e)\n",
    "axs.set_xlabel(\"Log_10(n)\")\n",
    "axs.set_ylabel(\"Ratio to Total Time Spent\")\n",
    "axs.legend(['Finding Smooth Numbers', \"Gaussian Elimination\" ])\n",
    "axs.set_title(\"Time Spent on Gaussian Elimination\\n and on Finding Smooth Numbers\")"
   ]
  },
  {
   "cell_type": "code",
   "execution_count": 4,
   "id": "8744b216",
   "metadata": {},
   "outputs": [
    {
     "data": {
      "text/plain": [
       "Text(0.5, 1.0, 'Time Spent on Gaussian Elimination and on Finding Smooth Numbers')"
      ]
     },
     "execution_count": 4,
     "metadata": {},
     "output_type": "execute_result"
    },
    {
     "data": {
      "image/png": "[encoded data removed]",
      "text/plain": [
       "<Figure size 640x480 with 1 Axes>"
      ]
     },
     "metadata": {},
     "output_type": "display_data"
    }
   ],
   "source": [
    "fig, axs = plt.subplots()\n",
    "start = 3\n",
    "ratio_e = [elim_time_s[i] / total_time_s[i] for i in range(start, len(smooth_time_s))]\n",
    "ratio_s = [smooth_time_s[i] / total_time_s[i] for i in range(start, len(smooth_time_s))]\n",
    "axs.scatter(log_nums[start:], ratio_s)\n",
    "axs.scatter(log_nums[start:], ratio_e)\n",
    "axs.plot(log_nums[start:], ratio_s)\n",
    "axs.plot(log_nums[start:], ratio_e)\n",
    "axs.set_xlabel(\"Log_10(n)\")\n",
    "axs.set_ylabel(\"Ratio to Total Time Spent\")\n",
    "axs.legend(['Finding Smooth Numbers', \"Gaussian Elimination\" ])\n",
    "axs.set_title(\"Time Spent on Gaussian Elimination and on Finding Smooth Numbers\")"
   ]
  },
  {
   "cell_type": "code",
   "execution_count": 45,
   "id": "e1fa5095",
   "metadata": {},
   "outputs": [
    {
     "data": {
      "text/plain": [
       "[21,\n",
       " 1517,\n",
       " 33654211,\n",
       " 1000036000099,\n",
       " 1000016970001183,\n",
       " 16921456439215439701,\n",
       " 10122798208607032248563,\n",
       " 100012346704296035909305421,\n",
       " 1084051192083178043760587822371,\n",
       " 101122692058747518904923513872323]"
      ]
     },
     "execution_count": 45,
     "metadata": {},
     "output_type": "execute_result"
    }
   ],
   "source": [
    "nums "
   ]
  },
  {
   "cell_type": "code",
   "execution_count": 5,
   "id": "5bb2231a",
   "metadata": {},
   "outputs": [
    {
     "data": {
      "text/plain": [
       "[0, 2, 0, 0, 0, 0]"
      ]
     },
     "execution_count": 5,
     "metadata": {},
     "output_type": "execute_result"
    }
   ],
   "source": [
    "elim_time"
   ]
  },
  {
   "cell_type": "code",
   "execution_count": 13,
   "id": "627c886b",
   "metadata": {},
   "outputs": [],
   "source": [
    "def power(a, n, p):\n",
    "    ret = 1\n",
    "    while n > 0:\n",
    "        if n % 2 == 1:\n",
    "            ret = (ret * a) % p\n",
    "        a = (a * a) % p\n",
    "        n //= 2\n",
    "    return ret"
   ]
  },
  {
   "cell_type": "code",
   "execution_count": 28,
   "id": "06aa08e2",
   "metadata": {},
   "outputs": [
    {
     "data": {
      "text/plain": [
       "10"
      ]
     },
     "execution_count": 28,
     "metadata": {},
     "output_type": "execute_result"
    }
   ],
   "source": [
    "import random\n",
    "random.randint(0, 12)"
   ]
  },
  {
   "cell_type": "code",
   "execution_count": 41,
   "id": "f1d528ae",
   "metadata": {},
   "outputs": [],
   "source": [
    "def check_prime(n, iter=10):\n",
    "    #run Miller rabin several times with different values of a\n",
    "    if (pow(2, n-1, n) != 1):\n",
    "        return False\n",
    "    m = 1\n",
    "    beta = n -1\n",
    "    k = 0\n",
    "    while (beta % 2 == 0):\n",
    "        beta = beta >> 1\n",
    "        k += 1\n",
    "    m = (n-1) >> k \n",
    "    for i in range(iter):\n",
    "        a = random.randint(2, n-2)\n",
    "        b_0 = power(a, m, n)\n",
    "        if (b_0 == 1) or (b_0 == -1) or (b_0 == n-1):\n",
    "            #n is probably prime\n",
    "            continue\n",
    "        b_j = b_0\n",
    "        j = 1\n",
    "        while (j) < k:\n",
    "            b_j = (b_j * b_j) % n\n",
    "            if (b_j == 1):\n",
    "                return False\n",
    "            elif (b_j == -1) or (b_j == n-1):\n",
    "                #n is probably prime\n",
    "                break\n",
    "            j += 1\n",
    "    return True\n",
    "            \n",
    "            \n",
    "        \n",
    "        \n",
    "        \n",
    "            \n",
    "            \n",
    "            "
   ]
  },
  {
   "cell_type": "code",
   "execution_count": 49,
   "id": "d604ca7f",
   "metadata": {},
   "outputs": [
    {
     "data": {
      "text/plain": [
       "[1, 2, 3, 5, 12, 2]"
      ]
     },
     "execution_count": 49,
     "metadata": {},
     "output_type": "execute_result"
    }
   ],
   "source": [
    "[1, 2, 3] + [5, 12, 2]"
   ]
  },
  {
   "cell_type": "code",
   "execution_count": 50,
   "id": "19985129",
   "metadata": {},
   "outputs": [
    {
     "data": {
      "text/plain": [
       "[[1, 2, 3], [4, 5, 6], [7, 8, 9]]"
      ]
     },
     "execution_count": 50,
     "metadata": {},
     "output_type": "execute_result"
    }
   ],
   "source": [
    "m = [[1, 2, 3],\n",
    "    [4, 5, 6],\n",
    "    [7, 8, 9]]\n",
    "r = m[1]\n",
    "r = [5, 3, 2]\n",
    "m"
   ]
  },
  {
   "cell_type": "code",
   "execution_count": 51,
   "id": "4ab101dc",
   "metadata": {},
   "outputs": [
    {
     "data": {
      "text/plain": [
       "[2]"
      ]
     },
     "execution_count": 51,
     "metadata": {},
     "output_type": "execute_result"
    }
   ],
   "source": [
    "[i for i in r if i % 2 == 0]"
   ]
  },
  {
   "cell_type": "code",
   "execution_count": null,
   "id": "b9eac635",
   "metadata": {},
   "outputs": [],
   "source": []
  }
 ],
 "metadata": {
  "kernelspec": {
   "display_name": "compsci527",
   "language": "python",
   "name": "compsci527"
  },
  "language_info": {
   "codemirror_mode": {
    "name": "ipython",
    "version": 3
   },
   "file_extension": ".py",
   "mimetype": "text/x-python",
   "name": "python",
   "nbconvert_exporter": "python",
   "pygments_lexer": "ipython3",
   "version": "3.10.8"
  }
 },
 "nbformat": 4,
 "nbformat_minor": 5
}
