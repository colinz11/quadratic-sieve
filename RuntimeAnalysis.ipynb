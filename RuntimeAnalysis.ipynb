{
 "cells": [
  {
   "cell_type": "code",
   "execution_count": 1,
   "id": "f6eae873",
   "metadata": {},
   "outputs": [],
   "source": [
    "from sieve import factor\n",
    "import matplotlib.pyplot as plt\n",
    "import numpy as np"
   ]
  },
  {
   "cell_type": "code",
   "execution_count": 3,
   "id": "5e99d4ea",
   "metadata": {},
   "outputs": [
    {
     "name": "stdout",
     "output_type": "stream",
     "text": [
      "Bound: 743\n",
      "Finding smooth numbers ...\n",
      "num_needed is 86\n",
      "x upper lim is 7430\n",
      "0 smooths have been found\n",
      "20 smooths have been found\n",
      "40 smooths have been found\n",
      "60 smooths have been found\n",
      "80 smooths have been found\n",
      "Found smooth numbers\n",
      "Running Gaussian elimination ... \n",
      "Finding factors ...\n",
      "Trivial Factor\n",
      "Finding factors ...\n",
      "Trivial Factor\n",
      "Finding factors ...\n",
      "Trivial Factor\n",
      "Finding factors ...\n",
      "Trivial Factor\n",
      "Finding factors ...\n",
      "Trivial Factor\n",
      "Finding factors ...\n",
      "Trivial Factor\n",
      "Finding factors ...\n",
      "Trivial Factor\n",
      "Finding factors ...\n",
      "Trivial Factor\n",
      "Finding factors ...\n",
      "Trivial Factor\n",
      "Finding factors ...\n",
      "Trivial Factor\n",
      "Finding factors ...\n",
      "Trivial Factor\n",
      "Finding factors ...\n",
      "N = 2860486313 * 5915587277\n",
      "total time: 3431ms, finding smooths time: 3414ms, Gaussian elim time: 15ms\n",
      "Bound: 1332\n",
      "Finding smooth numbers ...\n",
      "num_needed is 126\n",
      "x upper lim is 13210\n",
      "0 smooths have been found\n",
      "20 smooths have been found\n",
      "40 smooths have been found\n",
      "60 smooths have been found\n",
      "80 smooths have been found\n",
      "100 smooths have been found\n",
      "120 smooths have been found\n",
      "Found smooth numbers\n",
      "Running Gaussian elimination ... \n",
      "Finding factors ...\n",
      "Trivial Factor\n",
      "Finding factors ...\n",
      "Trivial Factor\n",
      "Finding factors ...\n",
      "Trivial Factor\n",
      "Finding factors ...\n",
      "Trivial Factor\n",
      "Finding factors ...\n",
      "Trivial Factor\n",
      "Finding factors ...\n",
      "N = 100123456789 * 101103163367\n",
      "total time: 5612ms, finding smooths time: 5484ms, Gaussian elim time: 124ms\n",
      "Bound: 2931\n",
      "Finding smooth numbers ...\n",
      "num_needed is 221\n",
      "x upper lim is 29170\n",
      "0 smooths have been found\n",
      "20 smooths have been found\n",
      "40 smooths have been found\n",
      "60 smooths have been found\n",
      "80 smooths have been found\n",
      "100 smooths have been found\n",
      "120 smooths have been found\n",
      "140 smooths have been found\n",
      "160 smooths have been found\n",
      "180 smooths have been found\n",
      "200 smooths have been found\n",
      "220 smooths have been found\n",
      "Found smooth numbers\n",
      "Running Gaussian elimination ... \n",
      "Finding factors ...\n",
      "Trivial Factor\n",
      "Finding factors ...\n",
      "Trivial Factor\n",
      "Finding factors ...\n",
      "Trivial Factor\n",
      "Finding factors ...\n",
      "Trivial Factor\n",
      "Finding factors ...\n",
      "Trivial Factor\n",
      "Finding factors ...\n",
      "Trivial Factor\n",
      "Finding factors ...\n",
      "Trivial Factor\n",
      "Finding factors ...\n",
      "N = 1000123465987 * 100000000105583\n",
      "total time: 9062ms, finding smooths time: 8423ms, Gaussian elim time: 631ms\n",
      "Bound: 6185\n",
      "Finding smooth numbers ...\n",
      "num_needed is 428\n",
      "x upper lim is 61730\n",
      "0 smooths have been found\n",
      "20 smooths have been found\n",
      "40 smooths have been found\n",
      "60 smooths have been found\n",
      "80 smooths have been found\n",
      "100 smooths have been found\n",
      "120 smooths have been found\n",
      "140 smooths have been found\n",
      "160 smooths have been found\n",
      "180 smooths have been found\n",
      "200 smooths have been found\n",
      "220 smooths have been found\n",
      "240 smooths have been found\n",
      "260 smooths have been found\n",
      "280 smooths have been found\n",
      "300 smooths have been found\n",
      "320 smooths have been found\n",
      "340 smooths have been found\n",
      "360 smooths have been found\n",
      "380 smooths have been found\n",
      "400 smooths have been found\n",
      "420 smooths have been found\n",
      "Found smooth numbers\n",
      "Running Gaussian elimination ... \n",
      "Finding factors ...\n",
      "Trivial Factor\n",
      "Finding factors ...\n",
      "Trivial Factor\n",
      "Finding factors ...\n",
      "Trivial Factor\n",
      "Finding factors ...\n",
      "Trivial Factor\n",
      "Finding factors ...\n",
      "Trivial Factor\n",
      "Finding factors ...\n",
      "Trivial Factor\n",
      "Finding factors ...\n",
      "Trivial Factor\n",
      "Finding factors ...\n",
      "Trivial Factor\n",
      "Finding factors ...\n",
      "Trivial Factor\n",
      "Finding factors ...\n",
      "Trivial Factor\n",
      "Finding factors ...\n",
      "Trivial Factor\n",
      "Finding factors ...\n",
      "Trivial Factor\n",
      "Finding factors ...\n",
      "Trivial Factor\n",
      "Finding factors ...\n",
      "Trivial Factor\n",
      "Finding factors ...\n",
      "Trivial Factor\n",
      "Finding factors ...\n",
      "Trivial Factor\n",
      "Finding factors ...\n",
      "Trivial Factor\n",
      "Finding factors ...\n",
      "Trivial Factor\n",
      "Finding factors ...\n",
      "Trivial Factor\n",
      "Finding factors ...\n",
      "Trivial Factor\n",
      "Finding factors ...\n",
      "Trivial Factor\n",
      "Could not find a nontrivial factor, retrying to factor\n"
     ]
    },
    {
     "ename": "TypeError",
     "evalue": "'int' object is not callable",
     "output_type": "error",
     "traceback": [
      "\u001b[1;31m---------------------------------------------------------------------------\u001b[0m",
      "\u001b[1;31mTypeError\u001b[0m                                 Traceback (most recent call last)",
      "Cell \u001b[1;32mIn[3], line 15\u001b[0m\n\u001b[0;32m     10\u001b[0m total_time \u001b[38;5;241m=\u001b[39m []\n\u001b[0;32m     14\u001b[0m \u001b[38;5;28;01mfor\u001b[39;00m num \u001b[38;5;129;01min\u001b[39;00m nums:\n\u001b[1;32m---> 15\u001b[0m     s, e, t \u001b[38;5;241m=\u001b[39m \u001b[43mfactor\u001b[49m\u001b[43m(\u001b[49m\u001b[43mnum\u001b[49m\u001b[43m,\u001b[49m\u001b[43m \u001b[49m\u001b[38;5;241;43m0.01\u001b[39;49m\u001b[43m)\u001b[49m\n\u001b[0;32m     16\u001b[0m     smooth_time\u001b[38;5;241m.\u001b[39mappend(s)\n\u001b[0;32m     17\u001b[0m     elim_time\u001b[38;5;241m.\u001b[39mappend(e)\n",
      "File \u001b[1;32m~\\College\\Year3\\Math404\\quadratic-sieve\\sieve.py:469\u001b[0m, in \u001b[0;36mfactor\u001b[1;34m(N, epsilon)\u001b[0m\n\u001b[0;32m    466\u001b[0m \u001b[38;5;66;03m#if the code reaches this point, no nontrivial factors have been found\u001b[39;00m\n\u001b[0;32m    467\u001b[0m \u001b[38;5;66;03m#retry with higher epsilon\u001b[39;00m\n\u001b[0;32m    468\u001b[0m \u001b[38;5;28mprint\u001b[39m(\u001b[38;5;124m\"\u001b[39m\u001b[38;5;124mCould not find a nontrivial factor, retrying to factor\u001b[39m\u001b[38;5;124m\"\u001b[39m)\n\u001b[1;32m--> 469\u001b[0m \u001b[38;5;28;01mreturn\u001b[39;00m \u001b[43mfactor\u001b[49m\u001b[43m(\u001b[49m\u001b[43mN\u001b[49m\u001b[43m,\u001b[49m\u001b[43m \u001b[49m\u001b[43mepsilon\u001b[49m\u001b[43m \u001b[49m\u001b[38;5;241;43m*\u001b[39;49m\u001b[43m \u001b[49m\u001b[38;5;241;43m10\u001b[39;49m\u001b[43m)\u001b[49m\n",
      "\u001b[1;31mTypeError\u001b[0m: 'int' object is not callable"
     ]
    }
   ],
   "source": [
    "nums = [16921456439215439701, \n",
    "       100123456789 * 101103163367, 100000000105583 * 1000123465987, 1000000000100011 * 1084051191974761,\n",
    "       10000000002065383 * 10112269203786181]\n",
    "\n",
    "\n",
    "\n",
    "epsilons = [0.1, 0.15]\n",
    "smooth_time = []\n",
    "elim_time = []\n",
    "total_time = []\n",
    "\n",
    "\n",
    "\n",
    "for num in nums:\n",
    "    s, e, t = factor(num, 0.01)\n",
    "    smooth_time.append(s)\n",
    "    elim_time.append(e)\n",
    "    total_time.append(t)\n"
   ]
  },
  {
   "cell_type": "code",
   "execution_count": null,
   "id": "87794879",
   "metadata": {},
   "outputs": [],
   "source": [
    "\n",
    "fig, axs_all = plt.subplots(1, 2)\n",
    "fig.set_size_inches(8, 4)\n",
    "fig.tight_layout(pad=3)\n",
    "axs = axs_all[0]\n",
    "total_time_s = [total_time[i] / 1000 for i in range(len(total_time))]\n",
    "elim_time_s = [elim_time[i] / 1000 for i in range(len(elim_time))]\n",
    "smooth_time_s = [smooth_time[i] / 1000 for i in range(len(smooth_time))]\n",
    "log_nums = np.log10([float(nums[i]) for i in range(len(nums))])\n",
    "up_to = len(nums)\n",
    "axs.scatter(log_nums[:up_to], total_time_s[:up_to])\n",
    "axs.plot(log_nums[:up_to], total_time_s[:up_to])\n",
    "\n",
    "axs.scatter\n",
    "axs.set_xlabel(\"Log_10(n)\")\n",
    "axs.set_ylabel(\"Time (s) to Factor n\")\n",
    "axs.set_title(\"Time (s) to Factor n\")\n",
    "\n",
    "axs = axs_all[1]\n",
    "start = 3\n",
    "ratio_e = [elim_time_s[i] / total_time_s[i] for i in range(start, len(smooth_time_s))]\n",
    "ratio_s = [smooth_time_s[i] / total_time_s[i] for i in range(start, len(smooth_time_s))]\n",
    "axs.scatter(log_nums[start:], ratio_s)\n",
    "axs.scatter(log_nums[start:], ratio_e)\n",
    "axs.plot(log_nums[start:], ratio_s)\n",
    "axs.plot(log_nums[start:], ratio_e)\n",
    "axs.set_xlabel(\"Log_10(n)\")\n",
    "axs.set_ylabel(\"Ratio to Total Time Spent\")\n",
    "axs.legend(['Finding Smooth Numbers', \"Gaussian Elimination\" ])\n",
    "axs.set_title(\"Time Spent on Gaussian Elimination\\n and on Finding Smooth Numbers\")"
   ]
  },
  {
   "cell_type": "code",
   "execution_count": 4,
   "id": "8744b216",
   "metadata": {},
   "outputs": [
    {
     "data": {
      "text/plain": [
       "Text(0.5, 1.0, 'Time Spent on Gaussian Elimination and on Finding Smooth Numbers')"
      ]
     },
     "execution_count": 4,
     "metadata": {},
     "output_type": "execute_result"
    },
    {
     "data": {
      "image/png": "[encoded data removed]",
      "text/plain": [
       "<Figure size 640x480 with 1 Axes>"
      ]
     },
     "metadata": {},
     "output_type": "display_data"
    }
   ],
   "source": [
    "fig, axs = plt.subplots()\n",
    "start = 3\n",
    "ratio_e = [elim_time_s[i] / total_time_s[i] for i in range(start, len(smooth_time_s))]\n",
    "ratio_s = [smooth_time_s[i] / total_time_s[i] for i in range(start, len(smooth_time_s))]\n",
    "axs.scatter(log_nums[start:], ratio_s)\n",
    "axs.scatter(log_nums[start:], ratio_e)\n",
    "axs.plot(log_nums[start:], ratio_s)\n",
    "axs.plot(log_nums[start:], ratio_e)\n",
    "axs.set_xlabel(\"Log_10(n)\")\n",
    "axs.set_ylabel(\"Ratio to Total Time Spent\")\n",
    "axs.legend(['Finding Smooth Numbers', \"Gaussian Elimination\" ])\n",
    "axs.set_title(\"Time Spent on Gaussian Elimination and on Finding Smooth Numbers\")"
   ]
  },
  {
   "cell_type": "code",
   "execution_count": 45,
   "id": "e1fa5095",
   "metadata": {},
   "outputs": [
    {
     "data": {
      "text/plain": [
       "[21,\n",
       " 1517,\n",
       " 33654211,\n",
       " 1000036000099,\n",
       " 1000016970001183,\n",
       " 16921456439215439701,\n",
       " 10122798208607032248563,\n",
       " 100012346704296035909305421,\n",
       " 1084051192083178043760587822371,\n",
       " 101122692058747518904923513872323]"
      ]
     },
     "execution_count": 45,
     "metadata": {},
     "output_type": "execute_result"
    }
   ],
   "source": [
    "nums "
   ]
  },
  {
   "cell_type": "code",
   "execution_count": 5,
   "id": "5bb2231a",
   "metadata": {},
   "outputs": [
    {
     "data": {
      "text/plain": [
       "[0, 2, 0, 0, 0, 0]"
      ]
     },
     "execution_count": 5,
     "metadata": {},
     "output_type": "execute_result"
    }
   ],
   "source": [
    "elim_time"
   ]
  },
  {
   "cell_type": "code",
   "execution_count": 13,
   "id": "627c886b",
   "metadata": {},
   "outputs": [],
   "source": [
    "def power(a, n, p):\n",
    "    ret = 1\n",
    "    while n > 0:\n",
    "        if n % 2 == 1:\n",
    "            ret = (ret * a) % p\n",
    "        a = (a * a) % p\n",
    "        n //= 2\n",
    "    return ret"
   ]
  },
  {
   "cell_type": "code",
   "execution_count": 28,
   "id": "06aa08e2",
   "metadata": {},
   "outputs": [
    {
     "data": {
      "text/plain": [
       "10"
      ]
     },
     "execution_count": 28,
     "metadata": {},
     "output_type": "execute_result"
    }
   ],
   "source": [
    "import random\n",
    "random.randint(0, 12)"
   ]
  },
  {
   "cell_type": "code",
   "execution_count": 41,
   "id": "f1d528ae",
   "metadata": {},
   "outputs": [],
   "source": [
    "def check_prime(n, iter=10):\n",
    "    #run Miller rabin several times with different values of a\n",
    "    if (pow(2, n-1, n) != 1):\n",
    "        return False\n",
    "    m = 1\n",
    "    beta = n -1\n",
    "    k = 0\n",
    "    while (beta % 2 == 0):\n",
    "        beta = beta >> 1\n",
    "        k += 1\n",
    "    m = (n-1) >> k \n",
    "    for i in range(iter):\n",
    "        a = random.randint(2, n-2)\n",
    "        b_0 = power(a, m, n)\n",
    "        if (b_0 == 1) or (b_0 == -1) or (b_0 == n-1):\n",
    "            #n is probably prime\n",
    "            continue\n",
    "        b_j = b_0\n",
    "        j = 1\n",
    "        while (j) < k:\n",
    "            b_j = (b_j * b_j) % n\n",
    "            if (b_j == 1):\n",
    "                return False\n",
    "            elif (b_j == -1) or (b_j == n-1):\n",
    "                #n is probably prime\n",
    "                break\n",
    "            j += 1\n",
    "    return True\n",
    "            \n",
    "            \n",
    "        \n",
    "        \n",
    "        \n",
    "            \n",
    "            \n",
    "            "
   ]
  },
  {
   "cell_type": "code",
   "execution_count": 49,
   "id": "d604ca7f",
   "metadata": {},
   "outputs": [
    {
     "data": {
      "text/plain": [
       "[1, 2, 3, 5, 12, 2]"
      ]
     },
     "execution_count": 49,
     "metadata": {},
     "output_type": "execute_result"
    }
   ],
   "source": [
    "[1, 2, 3] + [5, 12, 2]"
   ]
  },
  {
   "cell_type": "code",
   "execution_count": 50,
   "id": "19985129",
   "metadata": {},
   "outputs": [
    {
     "data": {
      "text/plain": [
       "[[1, 2, 3], [4, 5, 6], [7, 8, 9]]"
      ]
     },
     "execution_count": 50,
     "metadata": {},
     "output_type": "execute_result"
    }
   ],
   "source": [
    "m = [[1, 2, 3],\n",
    "    [4, 5, 6],\n",
    "    [7, 8, 9]]\n",
    "r = m[1]\n",
    "r = [5, 3, 2]\n",
    "m"
   ]
  },
  {
   "cell_type": "code",
   "execution_count": 51,
   "id": "4ab101dc",
   "metadata": {},
   "outputs": [
    {
     "data": {
      "text/plain": [
       "[2]"
      ]
     },
     "execution_count": 51,
     "metadata": {},
     "output_type": "execute_result"
    }
   ],
   "source": [
    "[i for i in r if i % 2 == 0]"
   ]
  },
  {
   "cell_type": "code",
   "execution_count": null,
   "id": "b9eac635",
   "metadata": {},
   "outputs": [],
   "source": []
  }
 ],
 "metadata": {
  "kernelspec": {
   "display_name": "compsci527",
   "language": "python",
   "name": "compsci527"
  },
  "language_info": {
   "codemirror_mode": {
    "name": "ipython",
    "version": 3
   },
   "file_extension": ".py",
   "mimetype": "text/x-python",
   "name": "python",
   "nbconvert_exporter": "python",
   "pygments_lexer": "ipython3",
   "version": "3.10.8"
  }
 },
 "nbformat": 4,
 "nbformat_minor": 5
}
